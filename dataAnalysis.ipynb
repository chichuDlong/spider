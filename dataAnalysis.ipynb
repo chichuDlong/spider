{
 "cells": [
  {
   "cell_type": "markdown",
   "metadata": {},
   "source": [
    "---\n",
    "#### Data Analysis\n",
    "- 正则  \n",
    "- bs4  \n",
    "- xpath\n",
    "---\n",
    "#### 常用正则表达式\n",
    "> 单字符：\n",
    "- . ：处换行外所有字符  \n",
    "- [] ：[aoe] [a-w] 匹配集合中任意一个字符  \n",
    "- \\d ：数字 [0-9]  \n",
    "- \\D ：非数字  \n",
    "- \\w ：数字、字母、下划线、中文  \n",
    "- \\W ：非\\w  \n",
    "- \\s ：所有非空白字符，等价于[\\f\\n\\r\\t\\v]  \n",
    "- \\S ：非空白  \n",
    "> 数量修饰：\n",
    "- \\* ：任意多次，>=0  \n",
    "- \\+ ：至少1次 >=1  \n",
    "- ? ：可有可无，0次或者1次  \n",
    "- {m} ：固定m次 hello{3,}  \n",
    "- {m,} ：至少m次  \n",
    "- {m,n} ：至少m-n次  \n",
    "> 边界：\n",
    "- $ ：以某某结尾\n",
    "- ^ ：以某某开头\n",
    "> 分组：\n",
    "- (ab)\n",
    "- 贪婪模式：.*\n",
    "- 非贪婪模式(惰性)模式：.*?\n",
    "- re.I ：忽略大小写\n",
    "- re.M ：多行匹配\n",
    "- re.S ：单行匹配\n",
    "- re.sub(正则表达式，替换内容，字符串)"
   ]
  },
  {
   "cell_type": "code",
   "execution_count": 18,
   "metadata": {},
   "outputs": [
    {
     "name": "stdout",
     "output_type": "stream",
     "text": [
      "python\n",
      "hello world\n",
      "['170']\n",
      "['http://', 'https://']\n",
      "hello\n",
      "hit.\n",
      "['saas', 'sas']\n"
     ]
    }
   ],
   "source": [
    "import re\n",
    "# 提取出Python\n",
    "key='javapythonc++php'\n",
    "res=re.findall('python',key)[0]\n",
    "print(res)\n",
    "###################################################################\n",
    "# 提取出hello word\n",
    "key='<html><h1>hello world<h1></html>'\n",
    "res=re.findall('<h1>(.*)<h1>',key)[0]\n",
    "print(res)\n",
    "###################################################################\n",
    "# 提取出170\n",
    "string='我身高是170'\n",
    "res=re.findall('\\d+',string)\n",
    "print(res)\n",
    "###################################################################\n",
    "# 提取出http://和https://\n",
    "key='http://www.baidu.com and https://boob.com'\n",
    "res=re.findall('https?://',key)\n",
    "print(res)\n",
    "###################################################################\n",
    "# 提取出hello\n",
    "key='lalala<html>hello</html>hahah'\n",
    "res=re.findall('<[Hh][Tt][mM][lL]>(.*)</[Hh][Tt][mM][lL]>',key)[0]\n",
    "print(res)\n",
    "###################################################################\n",
    "# 提取出hit.\n",
    "key='bobo@hit.edu.com'\n",
    "res=re.findall('h.*?\\.',key)[0]\n",
    "print(res)\n",
    "###################################################################\n",
    "# 提取出sas和saas\n",
    "key='saas and sas and saaaas'\n",
    "res=re.findall('sa{1,2}s',key)\n",
    "print(res)"
   ]
  }
 ],
 "metadata": {
  "interpreter": {
   "hash": "ffbfc792e496a15b6b750fac43e7a9afdc7c26545a7abda9dc172ad3cb978227"
  },
  "kernelspec": {
   "display_name": "Python 3.8.5 64-bit",
   "language": "python",
   "name": "python3"
  },
  "language_info": {
   "codemirror_mode": {
    "name": "ipython",
    "version": 3
   },
   "file_extension": ".py",
   "mimetype": "text/x-python",
   "name": "python",
   "nbconvert_exporter": "python",
   "pygments_lexer": "ipython3",
   "version": "3.8.5"
  },
  "orig_nbformat": 4
 },
 "nbformat": 4,
 "nbformat_minor": 2
}
